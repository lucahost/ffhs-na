{
 "cells": [
  {
   "cell_type": "code",
   "execution_count": 16,
   "id": "2118d67a",
   "metadata": {},
   "outputs": [],
   "source": [
    "%matplotlib inline"
   ]
  },
  {
   "cell_type": "code",
   "execution_count": 17,
   "id": "2285cae1",
   "metadata": {},
   "outputs": [],
   "source": [
    "ad_genes = \"APP,HFE,MPO,NOS3,PLAU,ABCA7,PSEN2,PSEN1,APOE\"\n",
    "schizo_genes = \"APOL2,APOL4,CHI3L1,COMT,DAOA,DISC2,DRD3,HTR2A,MTHFR,RTN4R,SYN2,SHANK3,DISC1,RBM12,NRXN1,SLC1A1,PRODH,NRG1\"\n",
    "\n",
    "ad_dict = {\n",
    "    # Alzheimer Disease\n",
    "    \"APP\": \"9606.ENSP00000284981\",\n",
    "    \"HFE\": \"9606.ENSP00000417404\",\n",
    "    \"MPO\": \"9606.ENSP00000225275\",\n",
    "    \"NOS3\": \"9606.ENSP00000297494\",\n",
    "    \"PLAU\": \"9606.ENSP00000361850\",\n",
    "}\n",
    "\n",
    "ad_related_dict = {\n",
    "    # AD Related\n",
    "    \"ABCA7\": \"9606.ENSP00000263094\",\n",
    "    \"PSEN1\": \"9606.ENSP00000326366\",\n",
    "    \"PSEN2\": \"9606.ENSP00000355747\",\n",
    "    \"APOE\": \"9606.ENSP00000252486\",\n",
    "}\n",
    "\n",
    "ad_full = ad_dict | ad_related_dict\n",
    "\n",
    "schiz_dict = {\n",
    "    # Schizophrenia\n",
    "    \"APOL2\": \"9606.ENSP00000249066\",\n",
    "    \"APOL4\": \"9606.ENSP00000338260\",\n",
    "    \"CHI3L1\": \"9606.ENSP00000255409\",\n",
    "    \"COMT\": \"9606.ENSP00000354511\",\n",
    "    \"DAOA\": \"9606.ENSP00000483757\",\n",
    "    \"DISC1\": \"9606.ENSP00000355593\",\n",
    "    \"DRD3\": \"9606.ENSP00000373169\",\n",
    "    \"HTR2A\": \"9606.ENSP00000437737\",\n",
    "    \"MTHFR\": \"9606.ENSP00000365777\",\n",
    "    \"RTN4R\": \"9606.ENSP00000043402\",\n",
    "    \"SYN2\": \"9606.ENSP00000480050\",\n",
    "}\n",
    "\n",
    "schiz_related_dict = {\n",
    "    # Schizophrenia Related\n",
    "    \"RBM12\": \"9606.ENSP00000363228\",\n",
    "    \"NRXN1\": \"9606.ENSP00000385142\",\n",
    "    \"SLC1A1\": \"9606.ENSP00000262352\",\n",
    "    \"PRODH\": \"9606.ENSP00000481127\",\n",
    "    \"NRG1\": \"9606.ENSP00000384620\",\n",
    "}\n",
    "\n",
    "schiz_full = schiz_dict | schiz_related_dict"
   ]
  },
  {
   "cell_type": "code",
   "execution_count": 18,
   "id": "47b1fa4a",
   "metadata": {},
   "outputs": [
    {
     "ename": "ModuleNotFoundError",
     "evalue": "No module named 'graph_tool'",
     "output_type": "error",
     "traceback": [
      "\u001B[1;31m---------------------------------------------------------------------------\u001B[0m",
      "\u001B[1;31mModuleNotFoundError\u001B[0m                       Traceback (most recent call last)",
      "\u001B[1;32m~\\AppData\\Local\\Temp/ipykernel_27624/3356903842.py\u001B[0m in \u001B[0;36m<module>\u001B[1;34m\u001B[0m\n\u001B[1;32m----> 1\u001B[1;33m \u001B[1;32mfrom\u001B[0m \u001B[0mgraph_tool\u001B[0m\u001B[1;33m.\u001B[0m\u001B[0mall\u001B[0m \u001B[1;32mimport\u001B[0m \u001B[1;33m*\u001B[0m\u001B[1;33m\u001B[0m\u001B[1;33m\u001B[0m\u001B[0m\n\u001B[0m\u001B[0;32m      2\u001B[0m \u001B[1;33m\u001B[0m\u001B[0m\n\u001B[0;32m      3\u001B[0m \u001B[0mg\u001B[0m \u001B[1;33m=\u001B[0m \u001B[0mload_graph\u001B[0m\u001B[1;33m(\u001B[0m\u001B[1;34m\"/data.graphml\"\u001B[0m\u001B[1;33m)\u001B[0m\u001B[1;33m\u001B[0m\u001B[1;33m\u001B[0m\u001B[0m\n\u001B[0;32m      4\u001B[0m \u001B[1;33m\u001B[0m\u001B[0m\n\u001B[0;32m      5\u001B[0m \u001B[0mprint\u001B[0m\u001B[1;33m(\u001B[0m\u001B[0mg\u001B[0m\u001B[1;33m)\u001B[0m\u001B[1;33m\u001B[0m\u001B[1;33m\u001B[0m\u001B[0m\n",
      "\u001B[1;31mModuleNotFoundError\u001B[0m: No module named 'graph_tool'"
     ]
    }
   ],
   "source": [
    "from graph_tool.all import *\n",
    "\n",
    "g = load_graph(\"/data.graphml\")\n",
    "\n",
    "print(g)"
   ]
  },
  {
   "cell_type": "code",
   "execution_count": null,
   "id": "1391a65c",
   "metadata": {},
   "outputs": [],
   "source": [
    "print(g.vertex_index)\n",
    "for v in g.vertices():\n",
    "    print(v)"
   ]
  },
  {
   "cell_type": "code",
   "execution_count": null,
   "id": "25b3529c",
   "metadata": {},
   "outputs": [],
   "source": [
    "# Centrality\n",
    "vp_betweenness, ep_betweenness = graph_tool.centrality.betweenness(g)\n",
    "print(f\"vertex p betweenness = {vp_betweenness}\")\n",
    "print(f\"edge p betweenness = {ep_betweenness}\")\n",
    "\n",
    "vp_closness = graph_tool.centrality.closeness(g)\n",
    "print(f\"vertex p closeness = {vp_closness}\")"
   ]
  },
  {
   "cell_type": "code",
   "execution_count": null,
   "id": "4a575738",
   "metadata": {},
   "outputs": [],
   "source": [
    "# Clustering\n",
    "\n",
    "local_clustering = graph_tool.clustering.local_clustering(g)\n",
    "\n",
    "print(graph_tool.stats.vertex_average(g, local_clustering))\n",
    "\n",
    "global_clustering = graph_tool.clustering.global_clustering(g)\n",
    "\n",
    "print(global_clustering)"
   ]
  },
  {
   "cell_type": "code",
   "execution_count": null,
   "id": "ba649678",
   "metadata": {},
   "outputs": [],
   "source": [
    "# Correlations\n",
    "assort = graph_tool.correlations.assortativity(g, \"total\")\n",
    "print(assort)"
   ]
  },
  {
   "cell_type": "code",
   "execution_count": null,
   "id": "73a45292",
   "metadata": {},
   "outputs": [],
   "source": [
    "schiz_res = {}\n",
    "ad_res = {}\n",
    "\n",
    "# print(g.list_properties())\n",
    "prop = g.vertex_properties[\"_graphml_vertex_id\"]\n",
    "\n",
    "for key, value in schiz_dict.items():\n",
    "    schiz_vertex = graph_tool.util.find_vertex(g, prop, key)[0]\n",
    "    print(f\"Schiz: found vertex for {key} - {schiz_vertex}\")\n",
    "    schiz_res[key] = schiz_vertex\n",
    "\n",
    "\n",
    "for key, value in ad_dict.items():\n",
    "    ad_vertex = graph_tool.util.find_vertex(g, prop, key)[0]\n",
    "    print(f\"AD: found vertex for {key} - {ad_vertex}\")\n",
    "    ad_res[key] = ad_vertex\n"
   ]
  },
  {
   "cell_type": "code",
   "execution_count": null,
   "id": "81ecafb8",
   "metadata": {},
   "outputs": [],
   "source": [
    "# Print Stats from our Vertices\n",
    "import numpy as np\n",
    "\n",
    "schiz_betweenness = {}\n",
    "ad_betweenness = {}\n",
    "schiz_closeness = {}\n",
    "ad_closeness = {}\n",
    "schiz_local_cluster = {}\n",
    "ad_local_cluster = {}\n",
    "schiz_degree = {}\n",
    "ad_degree = {}\n",
    "\n",
    "for key, value in schiz_res.items():\n",
    "    schiz_betweenness[key] = vp_betweenness[value]\n",
    "    schiz_closeness[key] = vp_closness[value]\n",
    "    schiz_degree[key] = g.get_total_degrees([value])\n",
    "    schiz_local_cluster[key] = local_clustering[value]\n",
    "    \n",
    "\n",
    "for key, value in ad_res.items():\n",
    "    ad_betweenness[key] = vp_betweenness[value]\n",
    "    ad_closeness[key] = vp_closness[value]\n",
    "    ad_degree[key] = g.get_total_degrees([value])\n",
    "    ad_local_cluster[key] = local_clustering[value]\n",
    "    \n",
    "    \n",
    "print(f\"betweenness whole graph: {np.average(vp_betweenness.a)}\")\n",
    "print(f\"closeness whole graph: {np.average(vp_closness.a)}\")\n",
    "print(f\"node degree average whole graph: {graph_tool.stats.vertex_average(g, 'total')}\")"
   ]
  },
  {
   "cell_type": "code",
   "execution_count": null,
   "id": "a4e1427b",
   "metadata": {},
   "outputs": [],
   "source": [
    "import matplotlib.pyplot as plt\n",
    "lists = schiz_betweenness.items()\n",
    "x, y = zip(*lists)\n",
    "plt.subplot(1, 2, 1)\n",
    "plt.xticks(rotation = 45)\n",
    "plt.title(\"betweenness (schiz)\")\n",
    "plt.plot(x,y)\n",
    "plt.subplots_adjust(left=.89)\n",
    "plt.subplot(1, 2, 2)\n",
    "lists = ad_betweenness.items()\n",
    "x, y = zip(*lists)\n",
    "plt.xticks(rotation = 45)\n",
    "plt.title(\"betweenness (ad)\")\n",
    "plt.tight_layout()\n",
    "plt.plot(x,y)"
   ]
  },
  {
   "cell_type": "code",
   "execution_count": null,
   "id": "b4c289d0",
   "metadata": {},
   "outputs": [],
   "source": [
    "lists = schiz_closeness.items()\n",
    "x, y = zip(*lists)\n",
    "plt.subplot(1, 2, 1)\n",
    "plt.xticks(rotation = 45)\n",
    "plt.title(\"closeness (schiz)\")\n",
    "plt.plot(x,y)\n",
    "plt.subplots_adjust(left=.89)\n",
    "plt.subplot(1, 2, 2)\n",
    "lists = ad_closeness.items()\n",
    "x, y = zip(*lists)\n",
    "plt.xticks(rotation = 45)\n",
    "plt.title(\"closeness (ad)\")\n",
    "plt.tight_layout()\n",
    "plt.plot(x,y)"
   ]
  },
  {
   "cell_type": "code",
   "execution_count": null,
   "id": "3c6cfc00",
   "metadata": {},
   "outputs": [],
   "source": [
    "lists = schiz_local_cluster.items()\n",
    "x, y = zip(*lists)\n",
    "plt.subplot(1, 2, 1)\n",
    "plt.xticks(rotation = 45)\n",
    "plt.title(\"local_cluster (schiz)\")\n",
    "plt.plot(x,y)\n",
    "plt.subplots_adjust(left=.89)\n",
    "plt.subplot(1, 2, 2)\n",
    "lists = ad_local_cluster.items()\n",
    "x, y = zip(*lists)\n",
    "plt.xticks(rotation = 45)\n",
    "plt.title(\"local_cluster (ad)\")\n",
    "plt.tight_layout()\n",
    "plt.plot(x,y)"
   ]
  },
  {
   "cell_type": "code",
   "execution_count": null,
   "id": "48922eeb",
   "metadata": {},
   "outputs": [],
   "source": [
    "lists = schiz_degree.items()\n",
    "x, y = zip(*lists)\n",
    "plt.subplot(1, 2, 1)\n",
    "plt.xticks(rotation = 45)\n",
    "plt.title(\"degree (schiz)\")\n",
    "plt.plot(x,y)\n",
    "plt.subplots_adjust(left=.89)\n",
    "plt.subplot(1, 2, 2)\n",
    "lists = ad_degree.items()\n",
    "x, y = zip(*lists)\n",
    "plt.xticks(rotation = 45)\n",
    "plt.title(\"degree (ad)\")\n",
    "plt.tight_layout()\n",
    "plt.plot(x,y)"
   ]
  },
  {
   "cell_type": "code",
   "execution_count": null,
   "id": "d4315666",
   "metadata": {},
   "outputs": [],
   "source": [
    "# Draw with Modularity\n",
    "state = graph_tool.inference.minimize.minimize_blockmodel_dl(g)\n",
    "print(state)\n",
    "state.draw(pos=g.vp.pos, output=\"blockmodel.svg\")"
   ]
  },
  {
   "cell_type": "code",
   "execution_count": null,
   "id": "fdff50f0",
   "metadata": {},
   "outputs": [],
   "source": [
    "# Draw Random\n",
    "pos = graph_tool.draw.random_layout(g, dim=2)\n",
    "graph_tool.draw.graph_draw(g, pos=pos, output=\"graph-draw-random.pdf\")\n",
    "\n",
    "# OR\n",
    "# graph_tool.draw.graph_draw(g, vertex_text=g.vertex_index, output=\"test.pdf\")"
   ]
  },
  {
   "cell_type": "code",
   "execution_count": null,
   "id": "093ec364",
   "metadata": {},
   "outputs": [],
   "source": [
    "# Draw with Fruchterman Reingold Layout\n",
    "pos = graph_tool.draw.fruchterman_reingold_layout(g, n_iter=1000)\n",
    "graph_tool.draw.graph_draw(g, pos=pos, output=\"graph-draw-fr.pdf\")"
   ]
  },
  {
   "cell_type": "code",
   "execution_count": null,
   "id": "98d66e7e",
   "metadata": {},
   "outputs": [],
   "source": [
    "# Minimal Spanning Treen\n",
    "from numpy.random import random\n",
    "\n",
    "tree = graph_tool.topology.min_spanning_tree(g)\n",
    "u = gt.GraphView(g, efilt=tree)\n",
    "gt.graph_draw(u, pos=pos, output=\"triang_min_span_tree.pdf\")"
   ]
  }
 ],
 "metadata": {
  "kernelspec": {
   "display_name": "Python 3",
   "language": "python",
   "name": "python3"
  },
  "language_info": {
   "codemirror_mode": {
    "name": "ipython",
    "version": 3
   },
   "file_extension": ".py",
   "mimetype": "text/x-python",
   "name": "python",
   "nbconvert_exporter": "python",
   "pygments_lexer": "ipython3",
   "version": "3.9.5"
  }
 },
 "nbformat": 4,
 "nbformat_minor": 5
}