{
 "cells": [
  {
   "cell_type": "code",
   "execution_count": null,
   "id": "7ec190be",
   "metadata": {},
   "outputs": [],
   "source": [
    "from graph_tool.all import *\n",
    "\n",
    "g = load_graph(\"/data.graphml\")\n",
    "\n",
    "print(g)\n"
   ]
  },
  {
   "cell_type": "code",
   "execution_count": null,
   "id": "666c38c6",
   "metadata": {},
   "outputs": [],
   "source": [
    "clust = graph_tool.clustering.local_clustering(g)\n",
    "print(graph_tool.stats.vertex_average(g, clust))\n",
    "\n",
    "global_clust = graph_tool.clustering.global_clustering(g)\n",
    "print(f\"global_clustering: {global_clust}\")"
   ]
  },
  {
   "cell_type": "code",
   "execution_count": null,
   "id": "fb0d0688",
   "metadata": {},
   "outputs": [],
   "source": [
    "print(g.vertex_index)\n",
    "for v in g.vertices():\n",
    "    print(v)"
   ]
  },
  {
   "cell_type": "code",
   "execution_count": null,
   "id": "852fd6db",
   "metadata": {},
   "outputs": [],
   "source": [
    "# Centrality\n",
    "vp_betweenness, ep_betweenness = graph_tool.centrality.betweenness(g)\n",
    "print(f\"vertex p betweenness = {vp_betweenness}\")\n",
    "print(f\"edge p betweenness = {ep_betweenness}\")\n",
    "\n",
    "vp_closness = graph_tool.centrality.closeness(g)\n",
    "print(f\"vertex p closeness = {vp_closness}\")"
   ]
  },
  {
   "cell_type": "code",
   "execution_count": null,
   "id": "06c1dbfb",
   "metadata": {},
   "outputs": [],
   "source": [
    "# Clustering\n",
    "\n",
    "local_clustering = graph_tool.clustering.local_clustering(g)\n",
    "\n",
    "print(graph_tool.stats.vertex_average(g, clust))\n",
    "\n",
    "global_clustering = graph_tool.clustering.global_clustering(g)\n",
    "\n",
    "print(global_clustering)"
   ]
  },
  {
   "cell_type": "code",
   "execution_count": null,
   "id": "423a34dc",
   "metadata": {},
   "outputs": [],
   "source": [
    "# Correlations\n",
    "assort = graph_tool.correlations.assortativity(g, \"total\")\n",
    "print(assort)"
   ]
  },
  {
   "cell_type": "code",
   "execution_count": null,
   "id": "384bb6e4",
   "metadata": {},
   "outputs": [],
   "source": [
    "ad_genes = \"APP,HFE,MPO,NOS3,PLAU,ABCA7,PSEN2,PSEN1,APOE\"\n",
    "schizo_genes = \"APOL2,APOL4,CHI3L1,COMT,DAOA,DISC2,DRD3,HTR2A,MTHFR,RTN4R,SYN2,SHANK3,DISC1,RBM12,NRXN1,SLC1A1,PRODH,NRG1\"\n",
    "\n",
    "ad_dict = {\n",
    "    # Alzheimer Disease\n",
    "    \"APP\": \"9606.ENSP00000284981\",\n",
    "    \"HFE\": \"9606.ENSP00000417404\",\n",
    "    \"MPO\": \"9606.ENSP00000225275\",\n",
    "    \"NOS3\": \"9606.ENSP00000297494\",\n",
    "    \"PLAU\": \"9606.ENSP00000361850\",\n",
    "}\n",
    "\n",
    "ad_related_dict = {\n",
    "    # AD Related\n",
    "    \"ABCA7\": \"9606.ENSP00000263094\",\n",
    "    \"PSEN1\": \"9606.ENSP00000326366\",\n",
    "    \"PSEN2\": \"9606.ENSP00000355747\",\n",
    "    \"APOE\": \"9606.ENSP00000252486\",\n",
    "}\n",
    "\n",
    "ad_full = ad_dict | ad_related_dict\n",
    "\n",
    "schiz_dict = {\n",
    "    # Schizophrenia\n",
    "    \"APOL2\": \"9606.ENSP00000249066\",\n",
    "    \"APOL4\": \"9606.ENSP00000338260\",\n",
    "    \"CHI3L1\": \"9606.ENSP00000255409\",\n",
    "    \"COMT\": \"9606.ENSP00000354511\",\n",
    "    \"DAOA\": \"9606.ENSP00000483757\",\n",
    "    \"DISC1\": \"9606.ENSP00000355593\",\n",
    "    \"DRD3\": \"9606.ENSP00000373169\",\n",
    "    \"HTR2A\": \"9606.ENSP00000437737\",\n",
    "    \"MTHFR\": \"9606.ENSP00000365777\",\n",
    "    \"RTN4R\": \"9606.ENSP00000043402\",\n",
    "    \"SYN2\": \"9606.ENSP00000480050\",\n",
    "}\n",
    "\n",
    "schiz_related_dict = {\n",
    "    # Schizophrenia Related\n",
    "    \"RBM12\": \"9606.ENSP00000363228\",\n",
    "    \"NRXN1\": \"9606.ENSP00000385142\",\n",
    "    \"SLC1A1\": \"9606.ENSP00000262352\",\n",
    "    \"PRODH\": \"9606.ENSP00000481127\",\n",
    "    \"NRG1\": \"9606.ENSP00000384620\",\n",
    "}\n",
    "\n",
    "schiz_full = schiz_dict | schiz_related_dict"
   ]
  },
  {
   "cell_type": "code",
   "execution_count": null,
   "id": "77b83e28",
   "metadata": {},
   "outputs": [],
   "source": [
    "schiz_res = {}\n",
    "ad_res = {}\n",
    "\n",
    "# print(g.list_properties())\n",
    "prop = g.vertex_properties[\"_graphml_vertex_id\"]\n",
    "\n",
    "for key, value in schiz_dict.items():\n",
    "    schiz_vertex = graph_tool.util.find_vertex(g, prop, key)\n",
    "    print(f\"Schiz: found vertex for {key} - {schiz_vertex}\")\n",
    "    schiz_res[key] = schiz_vertex\n",
    "\n",
    "\n",
    "for key, value in ad_dict.items():\n",
    "    ad_vertex = graph_tool.util.find_vertex(g, prop, key)\n",
    "    print(f\"AD: found vertex for {key} - {ad_vertex}\")\n",
    "    ad_res[key] = ad_vertex\n"
   ]
  },
  {
   "cell_type": "code",
   "execution_count": null,
   "id": "467d213c",
   "metadata": {},
   "outputs": [],
   "source": [
    "# Print Stats from our Vertices\n",
    "combined = schiz_res | ad_res\n",
    "for key, value in combined.items():\n",
    "    index = value[0]\n",
    "    print(f\"betweenness of {key}: {vp[index]}\")\n",
    "    print(f\"closeness of {key}: {vp_closness[index]}\")\n",
    "    print(f\"degree of {key}: {g.get_total_degrees([index])}\")\n",
    "    \n",
    "    \n",
    "print(f\"edge degree average whole graph: {graph_tool.stats.vertex_average(g, \"total\"}\")"
   ]
  },
  {
   "cell_type": "code",
   "execution_count": null,
   "id": "2621cec7",
   "metadata": {},
   "outputs": [],
   "source": [
    "# Draw with Modularity\n",
    "state = graph_tool.inference.minimize.minimize_blockmodel_dl(g)\n",
    "print(state)\n",
    "state.draw(pos=g.vp.pos, output=\"blockmodel.svg\");"
   ]
  },
  {
   "cell_type": "code",
   "execution_count": null,
   "id": "ccdd5f25",
   "metadata": {},
   "outputs": [],
   "source": [
    "# Draw Random\n",
    "pos = graph_tool.draw.random_layout(g, dim=2)\n",
    "graph_tool.draw.graph_draw(g, pos=pos, output=\"graph-draw-random.pdf\")\n",
    "\n",
    "# OR\n",
    "# graph_tool.draw.graph_draw(g, vertex_text=g.vertex_index, output=\"test.pdf\")"
   ]
  },
  {
   "cell_type": "code",
   "execution_count": null,
   "id": "9a349ea1",
   "metadata": {},
   "outputs": [],
   "source": [
    "# Draw with Fruchterman Reingold Layout\n",
    "pos = graph_tool.draw.fruchterman_reingold_layout(g, n_iter=1000)\n",
    "graph_tool.draw.graph_draw(g, pos=pos, output=\"graph-draw-fr.pdf\")"
   ]
  },
  {
   "cell_type": "code",
   "execution_count": null,
   "id": "e5156e72",
   "metadata": {},
   "outputs": [],
   "source": [
    "# Minimal Spanning Treen\n",
    "from numpy.random import random\n",
    "\n",
    "tree = graph_tool.topology.min_spanning_tree(g)\n",
    "u = gt.GraphView(g, efilt=tree)\n",
    "gt.graph_draw(u, pos=pos, output=\"triang_min_span_tree.pdf\")"
   ]
  }
 ],
 "metadata": {
  "kernelspec": {
   "display_name": "Python 3",
   "language": "python",
   "name": "python3"
  },
  "language_info": {
   "codemirror_mode": {
    "name": "ipython",
    "version": 3
   },
   "file_extension": ".py",
   "mimetype": "text/x-python",
   "name": "python",
   "nbconvert_exporter": "python",
   "pygments_lexer": "ipython3",
   "version": "3.9.5"
  }
 },
 "nbformat": 4,
 "nbformat_minor": 5
}