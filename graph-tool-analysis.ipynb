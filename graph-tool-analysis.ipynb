{
 "cells": [
  {
   "cell_type": "code",
   "execution_count": 2,
   "id": "2118d67a",
   "metadata": {},
   "outputs": [],
   "source": [
    "%matplotlib inline"
   ]
  },
  {
   "cell_type": "code",
   "execution_count": 3,
   "id": "2285cae1",
   "metadata": {},
   "outputs": [],
   "source": [
    "ad_genes = \"APP,HFE,MPO,NOS3,PLAU,ABCA7,PSEN2,PSEN1,APOE\"\n",
    "schizo_genes = \"APOL2,APOL4,CHI3L1,COMT,DAOA,DISC2,DRD3,HTR2A,MTHFR,RTN4R,SYN2,SHANK3,DISC1,RBM12,NRXN1,SLC1A1,PRODH,NRG1\"\n",
    "\n",
    "ad_dict = {\n",
    "    # Alzheimer Disease\n",
    "    \"APP\": \"9606.ENSP00000284981\",\n",
    "    \"HFE\": \"9606.ENSP00000417404\",\n",
    "    \"MPO\": \"9606.ENSP00000225275\",\n",
    "    \"NOS3\": \"9606.ENSP00000297494\",\n",
    "    \"PLAU\": \"9606.ENSP00000361850\",\n",
    "}\n",
    "\n",
    "ad_related_dict = {\n",
    "    # AD Related\n",
    "    \"ABCA7\": \"9606.ENSP00000263094\",\n",
    "    \"PSEN1\": \"9606.ENSP00000326366\",\n",
    "    \"PSEN2\": \"9606.ENSP00000355747\",\n",
    "    \"APOE\": \"9606.ENSP00000252486\",\n",
    "}\n",
    "\n",
    "ad_full = ad_dict | ad_related_dict\n",
    "\n",
    "schiz_dict = {\n",
    "    # Schizophrenia\n",
    "    \"APOL2\": \"9606.ENSP00000249066\",\n",
    "    \"APOL4\": \"9606.ENSP00000338260\",\n",
    "    \"CHI3L1\": \"9606.ENSP00000255409\",\n",
    "    \"COMT\": \"9606.ENSP00000354511\",\n",
    "    \"DAOA\": \"9606.ENSP00000483757\",\n",
    "    \"DISC1\": \"9606.ENSP00000355593\",\n",
    "    \"DRD3\": \"9606.ENSP00000373169\",\n",
    "    \"HTR2A\": \"9606.ENSP00000437737\",\n",
    "    \"MTHFR\": \"9606.ENSP00000365777\",\n",
    "    \"RTN4R\": \"9606.ENSP00000043402\",\n",
    "    \"SYN2\": \"9606.ENSP00000480050\",\n",
    "}\n",
    "\n",
    "schiz_related_dict = {\n",
    "    # Schizophrenia Related\n",
    "    \"RBM12\": \"9606.ENSP00000363228\",\n",
    "    \"NRXN1\": \"9606.ENSP00000385142\",\n",
    "    \"SLC1A1\": \"9606.ENSP00000262352\",\n",
    "    \"PRODH\": \"9606.ENSP00000481127\",\n",
    "    \"NRG1\": \"9606.ENSP00000384620\",\n",
    "}\n",
    "\n",
    "schiz_full = schiz_dict | schiz_related_dict"
   ]
  },
  {
   "cell_type": "code",
   "execution_count": 4,
   "id": "47b1fa4a",
   "metadata": {},
   "outputs": [
    {
     "name": "stdout",
     "output_type": "stream",
     "text": [
      "<Graph object, undirected, with 19382 vertices and 5968680 edges, 1 internal vertex property, 4 internal edge properties, at 0x7f63072dce80>\n"
     ]
    }
   ],
   "source": [
    "from graph_tool.all import *\n",
    "\n",
    "g = load_graph(\"all_protein_combined.graphml\")\n",
    "\n",
    "print(g)"
   ]
  },
  {
   "cell_type": "code",
   "execution_count": null,
   "id": "1391a65c",
   "metadata": {},
   "outputs": [],
   "source": [
    "print(g.vertex_index)\n",
    "for v in g.vertices():\n",
    "    print(v)"
   ]
  },
  {
   "cell_type": "code",
   "execution_count": 5,
   "id": "25b3529c",
   "metadata": {},
   "outputs": [
    {
     "name": "stdout",
     "output_type": "stream",
     "text": [
      "vertex p betweenness = <VertexPropertyMap object with value type 'double', for Graph 0x7f68a260f9d0, at 0x7f688807ca30>\n",
      "edge p betweenness = <EdgePropertyMap object with value type 'double', for Graph 0x7f68a260f9d0, at 0x7f688807caf0>\n",
      "vertex p closeness = <VertexPropertyMap object with value type 'double', for Graph 0x7f68a260f9d0, at 0x7f688807cee0>\n"
     ]
    }
   ],
   "source": [
    "# Centrality\n",
    "vp_betweenness, ep_betweenness = graph_tool.centrality.betweenness(g)\n",
    "print(f\"vertex p betweenness = {vp_betweenness}\")\n",
    "print(f\"edge p betweenness = {ep_betweenness}\")\n",
    "\n",
    "vp_closness = graph_tool.centrality.closeness(g)\n",
    "print(f\"vertex p closeness = {vp_closness}\")"
   ]
  },
  {
   "cell_type": "code",
   "execution_count": 6,
   "id": "4a575738",
   "metadata": {},
   "outputs": [
    {
     "name": "stdout",
     "output_type": "stream",
     "text": [
      "(0.1952338728921458, 0.0006214113968411895)\n",
      "(0.19299713533367516, 0.0010956810919999344)\n"
     ]
    }
   ],
   "source": [
    "# Clustering\n",
    "\n",
    "local_clustering = graph_tool.clustering.local_clustering(g)\n",
    "\n",
    "print(graph_tool.stats.vertex_average(g, local_clustering))\n",
    "\n",
    "global_clustering = graph_tool.clustering.global_clustering(g)\n",
    "\n",
    "print(global_clustering)"
   ]
  },
  {
   "cell_type": "code",
   "execution_count": 7,
   "id": "ba649678",
   "metadata": {},
   "outputs": [
    {
     "name": "stdout",
     "output_type": "stream",
     "text": [
      "(3.561537713627508e-05, 1.0387960155481485e-05)\n"
     ]
    }
   ],
   "source": [
    "# Correlations\n",
    "assort = graph_tool.correlations.assortativity(g, \"total\")\n",
    "print(assort)"
   ]
  },
  {
   "cell_type": "code",
   "execution_count": 8,
   "id": "73a45292",
   "metadata": {},
   "outputs": [
    {
     "name": "stdout",
     "output_type": "stream",
     "text": [
      "Schiz: found vertex for APOL2 - 13385\n",
      "Schiz: found vertex for APOL4 - 18099\n",
      "Schiz: found vertex for CHI3L1 - 3394\n",
      "Schiz: found vertex for COMT - 1486\n",
      "Schiz: found vertex for DAOA - 15629\n",
      "Schiz: found vertex for DISC1 - 12924\n",
      "Schiz: found vertex for DRD3 - 6981\n",
      "Schiz: found vertex for HTR2A - 8935\n",
      "Schiz: found vertex for MTHFR - 5774\n",
      "Schiz: found vertex for RTN4R - 4843\n",
      "Schiz: found vertex for SYN2 - 8892\n",
      "AD: found vertex for APP - 1501\n",
      "AD: found vertex for HFE - 1856\n",
      "AD: found vertex for MPO - 5548\n",
      "AD: found vertex for NOS3 - 5768\n",
      "AD: found vertex for PLAU - 10331\n"
     ]
    }
   ],
   "source": [
    "schiz_res = {}\n",
    "ad_res = {}\n",
    "\n",
    "# print(g.list_properties())\n",
    "prop = g.vertex_properties[\"_graphml_vertex_id\"]\n",
    "\n",
    "for key, value in schiz_dict.items():\n",
    "    schiz_vertex = graph_tool.util.find_vertex(g, prop, key)[0]\n",
    "    print(f\"Schiz: found vertex for {key} - {schiz_vertex}\")\n",
    "    schiz_res[key] = schiz_vertex\n",
    "\n",
    "\n",
    "for key, value in ad_dict.items():\n",
    "    ad_vertex = graph_tool.util.find_vertex(g, prop, key)[0]\n",
    "    print(f\"AD: found vertex for {key} - {ad_vertex}\")\n",
    "    ad_res[key] = ad_vertex\n"
   ]
  },
  {
   "cell_type": "code",
   "execution_count": 5,
   "id": "d4315666",
   "metadata": {},
   "outputs": [
    {
     "name": "stdout",
     "output_type": "stream",
     "text": [
      "<BlockState object with 19382 blocks (394 nonempty), degree-corrected, for graph <Graph object, undirected, with 19382 vertices and 5968680 edges, 1 internal vertex property, 4 internal edge properties, at 0x7f63072dce80>, at 0x7f62edfd6520>\n"
     ]
    }
   ],
   "source": [
    "# Draw with Modularity\n",
    "state = graph_tool.inference.minimize.minimize_blockmodel_dl(g)\n",
    "print(state)\n",
    "# state.draw(pos=g.vp.pos, output=\"blockmodel.svg\")"
   ]
  },
  {
   "cell_type": "code",
   "execution_count": 8,
   "id": "372bfbea",
   "metadata": {},
   "outputs": [
    {
     "name": "stdout",
     "output_type": "stream",
     "text": [
      "9487\n"
     ]
    }
   ],
   "source": [
    "blo = state.get_blocks()\n",
    "r = blo[1486]   # group membership of vertex 10\n",
    "print(r)"
   ]
  },
  {
   "cell_type": "code",
   "execution_count": 9,
   "id": "c70323a9",
   "metadata": {},
   "outputs": [
    {
     "name": "stdout",
     "output_type": "stream",
     "text": [
      "betweenness whole graph: 5.369104564006777e-05\n",
      "closeness whole graph: 0.49165797352336726\n",
      "node degree average whole graph: (615.8992879991745, 3.6760079012729885)\n"
     ]
    }
   ],
   "source": [
    "# Print Stats from our Vertices\n",
    "import numpy as np\n",
    "\n",
    "schiz_betweenness = {}\n",
    "ad_betweenness = {}\n",
    "schiz_closeness = {}\n",
    "ad_closeness = {}\n",
    "schiz_local_cluster = {}\n",
    "ad_local_cluster = {}\n",
    "schiz_degree = {}\n",
    "ad_degree = {}\n",
    "\n",
    "for key, value in schiz_res.items():\n",
    "    schiz_betweenness[key] = vp_betweenness[value]\n",
    "    schiz_closeness[key] = vp_closness[value]\n",
    "    schiz_degree[key] = g.get_total_degrees([value])\n",
    "    schiz_local_cluster[key] = local_clustering[value]\n",
    "    \n",
    "\n",
    "for key, value in ad_res.items():\n",
    "    ad_betweenness[key] = vp_betweenness[value]\n",
    "    ad_closeness[key] = vp_closness[value]\n",
    "    ad_degree[key] = g.get_total_degrees([value])\n",
    "    ad_local_cluster[key] = local_clustering[value]\n",
    "    \n",
    "    \n",
    "print(f\"betweenness whole graph: {np.average(vp_betweenness.a)}\")\n",
    "print(f\"closeness whole graph: {np.average(vp_closness.a)}\")\n",
    "print(f\"node degree average whole graph: {graph_tool.stats.vertex_average(g, 'total')}\")"
   ]
  },
  {
   "cell_type": "code",
   "execution_count": null,
   "id": "bdd106ad",
   "metadata": {},
   "outputs": [],
   "source": [
    "pos = graph_tool.draw.fruchterman_reingold_layout(g, n_iter=1, grid=False)"
   ]
  },
  {
   "cell_type": "code",
   "execution_count": null,
   "id": "5af8ba8c",
   "metadata": {},
   "outputs": [],
   "source": [
    "state.draw(pos=pos, output=\"blockmodel.eps\")"
   ]
  },
  {
   "cell_type": "code",
   "execution_count": null,
   "id": "c8a679d6",
   "metadata": {},
   "outputs": [],
   "source": [
    "pos_s = graph_tool.draw.sfdp_layout(g)"
   ]
  },
  {
   "cell_type": "code",
   "execution_count": null,
   "id": "7b3beb85",
   "metadata": {},
   "outputs": [],
   "source": [
    "state.draw(pos=pos_s, output=\"blockmodel-sfdp.eps\")"
   ]
  },
  {
   "cell_type": "code",
   "execution_count": null,
   "id": "fdff50f0",
   "metadata": {},
   "outputs": [],
   "source": [
    "# Draw Random\n",
    "pos = graph_tool.draw.random_layout(g, dim=2)\n",
    "graph_tool.draw.graph_draw(g, pos=pos, output=\"graph-draw-random.pdf\")\n",
    "\n",
    "# OR\n",
    "# graph_tool.draw.graph_draw(g, vertex_text=g.vertex_index, output=\"test.pdf\")"
   ]
  },
  {
   "cell_type": "code",
   "execution_count": null,
   "id": "093ec364",
   "metadata": {},
   "outputs": [],
   "source": [
    "# Draw with Fruchterman Reingold Layout\n",
    "pos = graph_tool.draw.fruchterman_reingold_layout(g, n_iter=1000)\n",
    "graph_tool.draw.graph_draw(g, pos=pos, output=\"graph-draw-fr.pdf\")"
   ]
  },
  {
   "cell_type": "code",
   "execution_count": null,
   "id": "98d66e7e",
   "metadata": {},
   "outputs": [],
   "source": [
    "# Minimal Spanning Treen\n",
    "from numpy.random import random\n",
    "\n",
    "tree = graph_tool.topology.min_spanning_tree(g)\n",
    "u = gt.GraphView(g, efilt=tree)\n",
    "gt.graph_draw(u, pos=pos, output=\"triang_min_span_tree.pdf\")"
   ]
  }
 ],
 "metadata": {
  "kernelspec": {
   "display_name": "Python 3",
   "language": "python",
   "name": "python3"
  },
  "language_info": {
   "codemirror_mode": {
    "name": "ipython",
    "version": 3
   },
   "file_extension": ".py",
   "mimetype": "text/x-python",
   "name": "python",
   "nbconvert_exporter": "python",
   "pygments_lexer": "ipython3",
   "version": "3.9.5"
  }
 },
 "nbformat": 4,
 "nbformat_minor": 5
}