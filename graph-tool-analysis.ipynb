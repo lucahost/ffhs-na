{
 "cells": [
  {
   "cell_type": "code",
   "execution_count": 1,
   "id": "394d45e4",
   "metadata": {},
   "outputs": [],
   "source": [
    "ad_genes = \"APP,HFE,MPO,NOS3,PLAU,ABCA7,PSEN2,PSEN1,APOE\"\n",
    "schizo_genes = \"APOL2,APOL4,CHI3L1,COMT,DAOA,DISC2,DRD3,HTR2A,MTHFR,RTN4R,SYN2,SHANK3,DISC1,RBM12,NRXN1,SLC1A1,PRODH,NRG1\"\n",
    "\n",
    "ad_dict = {\n",
    "    # Alzheimer Disease\n",
    "    \"APP\": \"9606.ENSP00000284981\",\n",
    "    \"HFE\": \"9606.ENSP00000417404\",\n",
    "    \"MPO\": \"9606.ENSP00000225275\",\n",
    "    \"NOS3\": \"9606.ENSP00000297494\",\n",
    "    \"PLAU\": \"9606.ENSP00000361850\",\n",
    "}\n",
    "\n",
    "ad_related_dict = {\n",
    "    # AD Related\n",
    "    \"ABCA7\": \"9606.ENSP00000263094\",\n",
    "    \"PSEN1\": \"9606.ENSP00000326366\",\n",
    "    \"PSEN2\": \"9606.ENSP00000355747\",\n",
    "    \"APOE\": \"9606.ENSP00000252486\",\n",
    "}\n",
    "\n",
    "ad_full = ad_dict | ad_related_dict\n",
    "\n",
    "schiz_dict = {\n",
    "    # Schizophrenia\n",
    "    \"APOL2\": \"9606.ENSP00000249066\",\n",
    "    \"APOL4\": \"9606.ENSP00000338260\",\n",
    "    \"CHI3L1\": \"9606.ENSP00000255409\",\n",
    "    \"COMT\": \"9606.ENSP00000354511\",\n",
    "    \"DAOA\": \"9606.ENSP00000483757\",\n",
    "    \"DISC1\": \"9606.ENSP00000355593\",\n",
    "    \"DRD3\": \"9606.ENSP00000373169\",\n",
    "    \"HTR2A\": \"9606.ENSP00000437737\",\n",
    "    \"MTHFR\": \"9606.ENSP00000365777\",\n",
    "    \"RTN4R\": \"9606.ENSP00000043402\",\n",
    "    \"SYN2\": \"9606.ENSP00000480050\",\n",
    "}\n",
    "\n",
    "schiz_related_dict = {\n",
    "    # Schizophrenia Related\n",
    "    \"RBM12\": \"9606.ENSP00000363228\",\n",
    "    \"NRXN1\": \"9606.ENSP00000385142\",\n",
    "    \"SLC1A1\": \"9606.ENSP00000262352\",\n",
    "    \"PRODH\": \"9606.ENSP00000481127\",\n",
    "    \"NRG1\": \"9606.ENSP00000384620\",\n",
    "}\n",
    "\n",
    "schiz_full = schiz_dict | schiz_related_dict"
   ]
  },
  {
   "cell_type": "code",
   "execution_count": 2,
   "id": "9c6c62ba",
   "metadata": {},
   "outputs": [
    {
     "name": "stdout",
     "output_type": "stream",
     "text": [
      "<Graph object, undirected, with 19382 vertices and 5968680 edges, 1 internal vertex property, 4 internal edge properties, at 0x7fa09b5f1370>\n"
     ]
    }
   ],
   "source": [
    "from graph_tool.all import *\n",
    "\n",
    "g = load_graph(\"/data.graphml\")\n",
    "\n",
    "print(g)"
   ]
  },
  {
   "cell_type": "code",
   "execution_count": null,
   "id": "1d767b66",
   "metadata": {},
   "outputs": [],
   "source": [
    "print(g.vertex_index)\n",
    "for v in g.vertices():\n",
    "    print(v)"
   ]
  },
  {
   "cell_type": "code",
   "execution_count": 3,
   "id": "51e64896",
   "metadata": {},
   "outputs": [
    {
     "name": "stdout",
     "output_type": "stream",
     "text": [
      "vertex p betweenness = <VertexPropertyMap object with value type 'double', for Graph 0x7fa09b5f1370, at 0x7fa067de2190>\n",
      "edge p betweenness = <EdgePropertyMap object with value type 'double', for Graph 0x7fa09b5f1370, at 0x7fa067de2e50>\n",
      "vertex p closeness = <VertexPropertyMap object with value type 'double', for Graph 0x7fa09b5f1370, at 0x7fa09b5cb910>\n"
     ]
    }
   ],
   "source": [
    "# Centrality\n",
    "vp_betweenness, ep_betweenness = graph_tool.centrality.betweenness(g)\n",
    "print(f\"vertex p betweenness = {vp_betweenness}\")\n",
    "print(f\"edge p betweenness = {ep_betweenness}\")\n",
    "\n",
    "vp_closness = graph_tool.centrality.closeness(g)\n",
    "print(f\"vertex p closeness = {vp_closness}\")"
   ]
  },
  {
   "cell_type": "code",
   "execution_count": 5,
   "id": "b1e912d1",
   "metadata": {},
   "outputs": [
    {
     "name": "stdout",
     "output_type": "stream",
     "text": [
      "(0.1952338728921458, 0.0006214113968411895)\n",
      "(0.19299713533367516, 0.0010956810919999342)\n"
     ]
    }
   ],
   "source": [
    "# Clustering\n",
    "\n",
    "local_clustering = graph_tool.clustering.local_clustering(g)\n",
    "\n",
    "print(graph_tool.stats.vertex_average(g, local_clustering))\n",
    "\n",
    "global_clustering = graph_tool.clustering.global_clustering(g)\n",
    "\n",
    "print(global_clustering)"
   ]
  },
  {
   "cell_type": "code",
   "execution_count": 6,
   "id": "96a848bf",
   "metadata": {},
   "outputs": [
    {
     "name": "stdout",
     "output_type": "stream",
     "text": [
      "(3.561537713627508e-05, 1.0387960155481485e-05)\n"
     ]
    }
   ],
   "source": [
    "# Correlations\n",
    "assort = graph_tool.correlations.assortativity(g, \"total\")\n",
    "print(assort)"
   ]
  },
  {
   "cell_type": "code",
   "execution_count": 8,
   "id": "de2df747",
   "metadata": {},
   "outputs": [
    {
     "name": "stdout",
     "output_type": "stream",
     "text": [
      "Schiz: found vertex for APOL2 - 13385\n",
      "Schiz: found vertex for APOL4 - 18099\n",
      "Schiz: found vertex for CHI3L1 - 3394\n",
      "Schiz: found vertex for COMT - 1486\n",
      "Schiz: found vertex for DAOA - 15629\n",
      "Schiz: found vertex for DISC1 - 12924\n",
      "Schiz: found vertex for DRD3 - 6981\n",
      "Schiz: found vertex for HTR2A - 8935\n",
      "Schiz: found vertex for MTHFR - 5774\n",
      "Schiz: found vertex for RTN4R - 4843\n",
      "Schiz: found vertex for SYN2 - 8892\n",
      "AD: found vertex for APP - 1501\n",
      "AD: found vertex for HFE - 1856\n",
      "AD: found vertex for MPO - 5548\n",
      "AD: found vertex for NOS3 - 5768\n",
      "AD: found vertex for PLAU - 10331\n"
     ]
    }
   ],
   "source": [
    "schiz_res = {}\n",
    "ad_res = {}\n",
    "\n",
    "# print(g.list_properties())\n",
    "prop = g.vertex_properties[\"_graphml_vertex_id\"]\n",
    "\n",
    "for key, value in schiz_dict.items():\n",
    "    schiz_vertex = graph_tool.util.find_vertex(g, prop, key)[0]\n",
    "    print(f\"Schiz: found vertex for {key} - {schiz_vertex}\")\n",
    "    schiz_res[key] = schiz_vertex\n",
    "\n",
    "\n",
    "for key, value in ad_dict.items():\n",
    "    ad_vertex = graph_tool.util.find_vertex(g, prop, key)[0]\n",
    "    print(f\"AD: found vertex for {key} - {ad_vertex}\")\n",
    "    ad_res[key] = ad_vertex\n"
   ]
  },
  {
   "cell_type": "code",
   "execution_count": 14,
   "id": "565475fc",
   "metadata": {},
   "outputs": [
    {
     "name": "stdout",
     "output_type": "stream",
     "text": [
      "betweenness of APOL2: 3.752353289463026e-05\n",
      "closeness of APOL2: 0.4878668881840608\n",
      "degree of APOL2: [287]\n",
      "betweenness of APOL4: 1.0188693396455386e-05\n",
      "closeness of APOL4: 0.4719361044147369\n",
      "degree of APOL4: [150]\n",
      "betweenness of CHI3L1: 4.208424084318323e-05\n",
      "closeness of CHI3L1: 0.5054111142983806\n",
      "degree of CHI3L1: [745]\n",
      "betweenness of COMT: 0.00016899743429551862\n",
      "closeness of COMT: 0.5137033502968618\n",
      "degree of COMT: [1228]\n",
      "betweenness of DAOA: 5.048852718436345e-06\n",
      "closeness of DAOA: 0.48015558418392623\n",
      "degree of DAOA: [174]\n",
      "betweenness of DISC1: 0.0001236534472975964\n",
      "closeness of DISC1: 0.5114395038923341\n",
      "degree of DISC1: [1047]\n",
      "betweenness of DRD3: 2.7550912301138258e-05\n",
      "closeness of DRD3: 0.5003872766704534\n",
      "degree of DRD3: [549]\n",
      "betweenness of HTR2A: 3.6927097011795e-05\n",
      "closeness of HTR2A: 0.506918107394136\n",
      "degree of HTR2A: [855]\n",
      "betweenness of MTHFR: 0.00016848951117455745\n",
      "closeness of MTHFR: 0.5170334800586902\n",
      "degree of MTHFR: [1399]\n",
      "betweenness of RTN4R: 5.934462972672222e-05\n",
      "closeness of RTN4R: 0.5089548319327731\n",
      "degree of RTN4R: [933]\n",
      "betweenness of SYN2: 0.00011391313808086313\n",
      "closeness of SYN2: 0.5153287776861921\n",
      "degree of SYN2: [1317]\n",
      "betweenness of APP: 0.0006653209816545667\n",
      "closeness of APP: 0.5403574316223827\n",
      "degree of APP: [2960]\n",
      "betweenness of HFE: 0.0001147483204282758\n",
      "closeness of HFE: 0.5143987047801045\n",
      "degree of HFE: [1274]\n",
      "betweenness of MPO: 0.00010831969488281588\n",
      "closeness of MPO: 0.5162209673982527\n",
      "degree of MPO: [1388]\n",
      "betweenness of NOS3: 0.0001694213162659105\n",
      "closeness of NOS3: 0.5235419649369243\n",
      "degree of NOS3: [1866]\n",
      "betweenness of PLAU: 8.179060030176301e-05\n",
      "closeness of PLAU: 0.5097982481521425\n",
      "degree of PLAU: [1096]\n",
      "edge degree average whole graph: (615.8992879991745, 3.6760079012729885)\n"
     ]
    }
   ],
   "source": [
    "# Print Stats from our Vertices\n",
    "combined = schiz_res | ad_res\n",
    "for key, value in combined.items():\n",
    "    print(f\"betweenness of {key}: {vp_betweenness[value]}\")\n",
    "    print(f\"closeness of {key}: {vp_closness[value]}\")\n",
    "    print(f\"degree of {key}: {g.get_total_degrees([value])}\")\n",
    "    \n",
    "    \n",
    "print(f\"edge degree average whole graph: {graph_tool.stats.vertex_average(g, 'total')}\")"
   ]
  },
  {
   "cell_type": "code",
   "execution_count": null,
   "id": "ae0563ef",
   "metadata": {},
   "outputs": [],
   "source": [
    "# Draw with Modularity\n",
    "state = graph_tool.inference.minimize.minimize_blockmodel_dl(g)\n",
    "print(state)\n",
    "state.draw(pos=g.vp.pos, output=\"blockmodel.svg\")"
   ]
  },
  {
   "cell_type": "code",
   "execution_count": null,
   "id": "1dc808d5",
   "metadata": {},
   "outputs": [],
   "source": [
    "# Draw Random\n",
    "pos = graph_tool.draw.random_layout(g, dim=2)\n",
    "graph_tool.draw.graph_draw(g, pos=pos, output=\"graph-draw-random.pdf\")\n",
    "\n",
    "# OR\n",
    "# graph_tool.draw.graph_draw(g, vertex_text=g.vertex_index, output=\"test.pdf\")"
   ]
  },
  {
   "cell_type": "code",
   "execution_count": null,
   "id": "e1f2fa2c",
   "metadata": {},
   "outputs": [],
   "source": [
    "# Draw with Fruchterman Reingold Layout\n",
    "pos = graph_tool.draw.fruchterman_reingold_layout(g, n_iter=1000)\n",
    "graph_tool.draw.graph_draw(g, pos=pos, output=\"graph-draw-fr.pdf\")"
   ]
  },
  {
   "cell_type": "code",
   "execution_count": null,
   "id": "452657e8",
   "metadata": {},
   "outputs": [],
   "source": [
    "# Minimal Spanning Treen\n",
    "from numpy.random import random\n",
    "\n",
    "tree = graph_tool.topology.min_spanning_tree(g)\n",
    "u = gt.GraphView(g, efilt=tree)\n",
    "gt.graph_draw(u, pos=pos, output=\"triang_min_span_tree.pdf\")"
   ]
  }
 ],
 "metadata": {
  "kernelspec": {
   "display_name": "Python 3",
   "language": "python",
   "name": "python3"
  },
  "language_info": {
   "codemirror_mode": {
    "name": "ipython",
    "version": 3
   },
   "file_extension": ".py",
   "mimetype": "text/x-python",
   "name": "python",
   "nbconvert_exporter": "python",
   "pygments_lexer": "ipython3",
   "version": "3.9.5"
  }
 },
 "nbformat": 4,
 "nbformat_minor": 5
}