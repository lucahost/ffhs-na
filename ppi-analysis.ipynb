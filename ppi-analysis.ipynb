{
 "cells": [
  {
   "cell_type": "code",
   "execution_count": null,
   "metadata": {},
   "outputs": [],
   "source": [
    "import networkx as nx\n",
    "import pandas as pd\n",
    "import scipy\n",
    "from matplotlib import pyplot as plt\n",
    "from matplotlib import pylab"
   ]
  },
  {
   "cell_type": "code",
   "execution_count": null,
   "metadata": {
    "collapsed": false,
    "pycharm": {
     "name": "#%%\n"
    }
   },
   "outputs": [],
   "source": [
    "ad_genes = \"APP,HFE,MPO,NOS3,PLAU,ABCA7,PSEN2,PSEN1,APOE\"\n",
    "schizo_genes = \"APOL2,APOL4,CHI3L1,COMT,DAOA,DISC2,DRD3,HTR2A,MTHFR,RTN4R,SYN2,SHANK3,DISC1,RBM12,NRXN1,SLC1A1,PRODH,NRG1\"\n",
    "\n",
    "ad_dict = {\n",
    "    # Alzheimer\n",
    "    \"APP\": \"9606.ENSP00000284981\",\n",
    "    \"HFE\": \"9606.ENSP00000417404\",\n",
    "    \"MPO\": \"9606.ENSP00000225275\",\n",
    "    \"NOS3\": \"9606.ENSP00000297494\",\n",
    "    \"PLAU\": \"9606.ENSP00000361850\",\n",
    "    \"ABCA7\": \"9606.ENSP00000263094\",\n",
    "    \"APOE\": \"9606.ENSP00000252486\"\n",
    "}\n",
    "\n",
    "schizo_dict = {\n",
    "    # Schizophrenia\n",
    "    \"APOL2\": \"9606.ENSP00000249066\",\n",
    "    \"APOL4\": \"9606.ENSP00000338260\",\n",
    "    \"CHI3L1\": \"9606.ENSP00000255409\",\n",
    "    \"COMT\": \"9606.ENSP00000354511\",\n",
    "    \"DAOA\": \"9606.ENSP00000483757\",\n",
    "    \"DISC1\": \"9606.ENSP00000355593\",\n",
    "    \"DRD3\": \"9606.ENSP00000373169\",\n",
    "    \"HTR2A\": \"9606.ENSP00000437737\",\n",
    "    \"MTHFR\": \"9606.ENSP00000365777\",\n",
    "    \"NRG1\": \"9606.ENSP00000384620\",\n",
    "    \"NRXN1\": \"9606.ENSP00000385142\",\n",
    "    \"PRODH\": \"9606.ENSP00000481127\",\n",
    "    \"PSEN1\": \"9606.ENSP00000326366\",\n",
    "    \"PSEN2\": \"9606.ENSP00000355747\",\n",
    "    \"RBM12\": \"9606.ENSP00000363228\",\n",
    "    \"RTN4R\": \"9606.ENSP00000043402\",\n",
    "    \"SLC1A1\": \"9606.ENSP00000262352\",\n",
    "    \"SYN2\": \"9606.ENSP00000480050\",\n",
    "}"
   ]
  },
  {
   "cell_type": "code",
   "execution_count": null,
   "metadata": {},
   "outputs": [],
   "source": [
    "# Import and Filter whole Protein Network File\n",
    "\n",
    "df_ad = pd.read_csv('ad_network.csv', sep=\",\")\n",
    "df_schiz = pd.read_csv('schiz_network.csv', sep=\",\")  "
   ]
  },
  {
   "cell_type": "code",
   "execution_count": null,
   "metadata": {},
   "outputs": [],
   "source": [
    "def save_graph(graph, file_name):\n",
    "    #initialze Figure\n",
    "    plt.figure(num=None, figsize=(20, 20), dpi=80)\n",
    "    plt.axis('off')\n",
    "    fig = plt.figure(1)\n",
    "    pos = nx.spring_layout(graph)\n",
    "    nx.draw_networkx_nodes(graph, pos)\n",
    "    nx.draw_networkx_edges(graph, pos)\n",
    "    nx.draw_networkx_labels(graph, pos)\n",
    "\n",
    "    cut = 1.00\n",
    "    xmax = cut * max(xx for xx, yy in pos.values())\n",
    "    ymax = cut * max(yy for xx, yy in pos.values())\n",
    "    plt.xlim(0, xmax)\n",
    "    plt.ylim(0, ymax)\n",
    "\n",
    "    plt.savefig(file_name, bbox_inches=\"tight\")\n",
    "    pylab.close()\n",
    "    del fig\n"
   ]
  },
  {
   "cell_type": "code",
   "execution_count": 19,
   "metadata": {},
   "outputs": [],
   "source": [
    "\n",
    "#col1 = protein1\n",
    "#col2 = protein2\n",
    "\n",
    "Graphtype = nx.Graph()\n",
    "G = nx.from_pandas_edgelist(df_ad, source=\"protein1\", target=\"protein2\",\n",
    "                            create_using=Graphtype, edge_attr=\"protein1\")\n",
    "save_graph(G, file_name=\"ad_network_graph.svg\")"
   ]
  },
  {
   "cell_type": "code",
   "execution_count": null,
   "metadata": {},
   "outputs": [],
   "source": [
    "\n",
    "#col1 = protein1\n",
    "#col2 = protein2\n",
    "\n",
    "Graphtype = nx.Graph()\n",
    "G = nx.from_pandas_edgelist(df_schiz, source=\"protein1\", target=\"protein2\",\n",
    "                            create_using=Graphtype, edge_attr=\"protein1\")\n",
    "save_graph(G, file_name=\"schiz_network_graph.svg\")\n"
   ]
  },
  {
   "cell_type": "markdown",
   "metadata": {},
   "source": [
    "## In the next example we are going to create a network from a single protein (APP)"
   ]
  },
  {
   "cell_type": "code",
   "execution_count": null,
   "metadata": {},
   "outputs": [],
   "source": [
    "\n",
    "df = pd.read_csv('app_protein_interaction.csv', sep=\"\\t\")\n",
    "Graphtype = nx.Graph()\n",
    "G = nx.from_pandas_edgelist(df, source=\"Source\", target=\"Target\",\n",
    "                            create_using=Graphtype, edge_attr=\"Source\")\n",
    "pos = nx.spring_layout(G, k=10)  # For better example looking\n",
    "nx.draw(G, pos, with_labels=True)\n",
    "plt.show()\n"
   ]
  }
 ],
 "metadata": {
  "interpreter": {
   "hash": "a65720f9fe3ee910c48bc6888ba9a90229fff48d18c10ce2aa390e3be54f39c2"
  },
  "kernelspec": {
   "display_name": "Python 3 (ipykernel)",
   "language": "python",
   "name": "python3"
  },
  "language_info": {
   "codemirror_mode": {
    "name": "ipython",
    "version": 3
   },
   "file_extension": ".py",
   "mimetype": "text/x-python",
   "name": "python",
   "nbconvert_exporter": "python",
   "pygments_lexer": "ipython3",
   "version": "3.10.0"
  },
  "orig_nbformat": 4
 },
 "nbformat": 4,
 "nbformat_minor": 2
}
