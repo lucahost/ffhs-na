{
 "cells": [
  {
   "cell_type": "code",
   "execution_count": null,
   "metadata": {},
   "outputs": [],
   "source": [
    "import networkx as nx\n",
    "import pandas as pd\n",
    "\n",
    "df = pd.read_csv('Data.csv')\n",
    "Graphtype = nx.Graph()\n",
    "G = nx.from_pandas_edgelist(df, edge_attr='weight', create_using=Graphtype)"
   ]
  }
 ],
 "metadata": {
  "interpreter": {
   "hash": "a65720f9fe3ee910c48bc6888ba9a90229fff48d18c10ce2aa390e3be54f39c2"
  },
  "kernelspec": {
   "display_name": "Python 3.7.7 64-bit ('venv')",
   "name": "python3"
  },
  "language_info": {
   "name": "python",
   "version": "3.7.7"
  },
  "orig_nbformat": 4
 },
 "nbformat": 4,
 "nbformat_minor": 2
}
