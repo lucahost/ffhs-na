{
 "cells": [
  {
   "cell_type": "code",
   "execution_count": 78,
   "metadata": {},
   "outputs": [],
   "source": [
    "% matplotlib inline\n",
    "\n",
    "import glob\n",
    "from pathlib import Path\n",
    "import pandas as pd\n",
    "import networkx as nx\n",
    "import matplotlib.pyplot as plt\n",
    "from pyvis.network import Network"
   ]
  },
  {
   "cell_type": "code",
   "execution_count": 83,
   "metadata": {
    "pycharm": {
     "name": "#%%\n"
    }
   },
   "outputs": [],
   "source": [
    "# Utilies (Save Graph as File)\n",
    "def save_graph(graph, file_name):\n",
    "    # initialze Figure\n",
    "    nt = Network('800px', '1200px')\n",
    "    # populates the nodes and edges data structures\n",
    "    nt.from_nx(graph)\n",
    "    nt.show(f'{file_name}.html')\n",
    "\n",
    "\n",
    "def plot_graph(graph, title):\n",
    "    pos = nx.spring_layout(graph, k=10)  # For better example looking\n",
    "    nx.draw(graph, pos, with_labels=True)\n",
    "    plt.title(title)\n",
    "    plt.show()\n",
    "\n",
    "\n",
    "def print_graph_analytics(graph, title):\n",
    "    print(f\"{title} - nodes:                {nx.number_of_nodes(graph)}\")\n",
    "    print(f\"{title} - edges:                {nx.number_of_edges(graph)}\")\n",
    "    print(f\"{title} - density:              {nx.density(graph)}\")\n",
    "    print(f\"{title} - wiener-index:         {nx.algorithms.wiener_index(graph)}\")\n",
    "    print(f\"{title} - small-world sigma:    {nx.sigma(graph)}\")\n",
    "    print(f\"{title} - small-world omega:    {nx.omega(graph)}\")\n",
    "    print(f\"{title} - avg-clustering:       {nx.algorithms.average_clustering(graph)}\")"
   ]
  },
  {
   "cell_type": "markdown",
   "metadata": {},
   "source": [
    "# The next step is to read all single gene-networks and plot them\n",
    "> Note: Run this in the online jupyter notebook if its not working"
   ]
  },
  {
   "cell_type": "markdown",
   "metadata": {
    "pycharm": {
     "name": "#%% md\n"
    }
   },
   "source": [
    "## Alzheimer Disease"
   ]
  },
  {
   "cell_type": "code",
   "execution_count": null,
   "metadata": {
    "pycharm": {
     "name": "#%%\n",
     "is_executing": true
    }
   },
   "outputs": [],
   "source": [
    "path = \"data/ad/genes/*.csv\"\n",
    "for fname in glob.glob(path):\n",
    "    df = pd.read_csv(fname)\n",
    "    Graphtype = nx.Graph()\n",
    "    file_name = Path(fname).stem\n",
    "    G = nx.from_pandas_edgelist(df, source=\"Source\", target=\"Target\",\n",
    "                                create_using=Graphtype)\n",
    "    print_graph_analytics(G, file_name)\n",
    "    plot_graph(G, file_name)"
   ]
  },
  {
   "cell_type": "markdown",
   "metadata": {
    "pycharm": {
     "name": "#%% md\n"
    }
   },
   "source": [
    "## Schizophrenia"
   ]
  },
  {
   "cell_type": "code",
   "execution_count": null,
   "metadata": {
    "pycharm": {
     "name": "#%%\n",
     "is_executing": true
    }
   },
   "outputs": [],
   "source": [
    "path = \"data/schiz/genes/*.csv\"\n",
    "for fname in glob.glob(path):\n",
    "    df = pd.read_csv(fname)\n",
    "    Graphtype = nx.Graph()\n",
    "    file_name = Path(fname).stem\n",
    "    G = nx.from_pandas_edgelist(df, source=\"Source\", target=\"Target\",\n",
    "                                create_using=Graphtype)\n",
    "    print_graph_analytics(G, file_name)\n",
    "    plot_graph(G, file_name)"
   ]
  },
  {
   "cell_type": "markdown",
   "metadata": {},
   "source": [
    "# Read CSV Files (AD Network Full and Schizophrenia Network Full)"
   ]
  },
  {
   "cell_type": "code",
   "execution_count": 81,
   "metadata": {
    "pycharm": {
     "name": "#%%\n"
    }
   },
   "outputs": [],
   "source": [
    "df_ad = pd.read_csv('data/ad/ad_network_full_with_labels.csv', sep=\",\")\n",
    "df_schiz = pd.read_csv('data/schiz/schiz_network_full_with_labels.csv', sep=\",\")"
   ]
  },
  {
   "cell_type": "markdown",
   "metadata": {},
   "source": [
    "# Create networkX Graph from Pandas Edgelist (AD Network)\n",
    "> Note: This will take some time"
   ]
  },
  {
   "cell_type": "code",
   "execution_count": null,
   "metadata": {
    "pycharm": {
     "name": "#%%\n",
     "is_executing": true
    }
   },
   "outputs": [],
   "source": [
    "Graphtype = nx.Graph()\n",
    "G = nx.from_pandas_edgelist(df_ad, source=\"Source\", target=\"Target\",\n",
    "                            create_using=Graphtype, edge_attr=True)\n",
    "# save_graph(G, file_name=\"ad_network_graph\")\n",
    "print_graph_analytics(G, \"ad_network_graph\")\n",
    "# plot_graph(G, \"alzheimer disease\")"
   ]
  },
  {
   "cell_type": "markdown",
   "metadata": {},
   "source": [
    "# Create networkX Graph from Pandas Edgelist (Schizophrenia Network)\n",
    "> Note: This will take some time"
   ]
  },
  {
   "cell_type": "code",
   "execution_count": 14,
   "metadata": {
    "pycharm": {
     "name": "#%%\n"
    }
   },
   "outputs": [],
   "source": [
    "Graphtype = nx.Graph()\n",
    "G = nx.from_pandas_edgelist(df_schiz, source=\"Source\", target=\"Target\",\n",
    "                            create_using=Graphtype, edge_attr=True)\n",
    "# save_graph(G, file_name=\"schiz_network_graph\")\n",
    "print_graph_analytics(G, \"schiz_network_graph\")\n",
    "# plot_graph(G, \"schizophrenia network full\")"
   ]
  }
 ],
 "metadata": {
  "interpreter": {
   "hash": "a65720f9fe3ee910c48bc6888ba9a90229fff48d18c10ce2aa390e3be54f39c2"
  },
  "kernelspec": {
   "display_name": "Python 3 (ipykernel)",
   "language": "python",
   "name": "python3"
  },
  "language_info": {
   "codemirror_mode": {
    "name": "ipython",
    "version": 3
   },
   "file_extension": ".py",
   "mimetype": "text/x-python",
   "name": "python",
   "nbconvert_exporter": "python",
   "pygments_lexer": "ipython3",
   "version": "3.10.0"
  }
 },
 "nbformat": 4,
 "nbformat_minor": 2
}