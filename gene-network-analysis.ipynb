{
 "cells": [
  {
   "cell_type": "code",
   "execution_count": null,
   "metadata": {},
   "outputs": [],
   "source": [
    "%matplotlib inline\n",
    "\n",
    "import numpy as np\n",
    "import glob\n",
    "from pathlib import Path\n",
    "import pandas as pd\n",
    "import networkx as nx\n",
    "import matplotlib.pyplot as plt\n",
    "import matplotlib.cm as cm\n",
    "import community as community_louvain\n",
    "from pyvis.network import Network"
   ]
  },
  {
   "cell_type": "code",
   "execution_count": null,
   "metadata": {
    "pycharm": {
     "name": "#%%\n"
    }
   },
   "outputs": [],
   "source": [
    "# Utilies (Save Graph as File)\n",
    "def save_graph(graph, file_name):\n",
    "    # initialze Figure\n",
    "    nt = Network('800px', '1200px')\n",
    "    # populates the nodes and edges data structures\n",
    "    nt.from_nx(graph)\n",
    "    nt.show(f'{file_name}.html')\n",
    "\n",
    "\n",
    "def plot_graph(graph, title):\n",
    "    partition = community_louvain.best_partition(graph)\n",
    "    pos = nx.spring_layout(graph, k=10)  # For better example looking\n",
    "    # nx.draw(graph, pos, with_labels=True)\n",
    "    cmap = cm.get_cmap('viridis', max(partition.values()) + 1)\n",
    "    nx.draw_networkx_nodes(G, pos, partition.keys(), node_size=40,\n",
    "                           cmap=cmap, node_color=list(partition.values()))\n",
    "    nx.draw_networkx_edges(G, pos, alpha=0.5)\n",
    "    nx.draw_networkx_labels(G, pos)\n",
    "    plt.title(title)\n",
    "    plt.show()\n",
    "\n",
    "\n",
    "def print_graph_analytics(graph, title):\n",
    "    print(f\"{title} - nodes:                {nx.number_of_nodes(graph)}\")\n",
    "    print(f\"{title} - edges:                {nx.number_of_edges(graph)}\")\n",
    "    print(f\"{title} - density:              {nx.density(graph)}\")\n",
    "    print(f\"{title} - avg-clustering:       {nx.algorithms.average_clustering(graph)}\")\n",
    "    #print(f\"{title} - wiener-index:         {nx.algorithms.wiener_index(graph)}\")\n",
    "    #print(f\"{title} - small-world sigma:    {nx.sigma(graph)}\")\n",
    "    #print(f\"{title} - small-world omega:    {nx.omega(graph)}\")\n",
    "\n",
    "\n",
    "def calculate_graph_measures(graph, relevant_nodes):\n",
    "    # betweenness_centrality\n",
    "    betweenness_centrality = nx.betweenness_centrality(graph)\n",
    "    betweenness_centrality_filtered = dict(\n",
    "        filter(lambda elem: elem[0] in relevant_nodes, betweenness_centrality.items()))\n",
    "\n",
    "    # # closness_centrality\n",
    "    closeness_centrality = nx.closeness_centrality(graph)\n",
    "    closeness_centrality_filtered = dict(filter(lambda elem: elem[0] in relevant_nodes, closeness_centrality.items()))\n",
    "\n",
    "    # # average_degree_connectivity\n",
    "    avg_local_degree = nx.algorithms.assortativity.average_degree_connectivity(graph)\n",
    "    avg_local_degree_filtered = dict(filter(lambda elem: elem[0] in relevant_nodes, avg_local_degree.items()))\n",
    "    return {\n",
    "        'nodes': nx.number_of_nodes(graph),\n",
    "        'edges': nx.number_of_edges(graph),\n",
    "        'density': nx.density(graph),\n",
    "        'avg_clustering': nx.algorithms.average_clustering(graph),\n",
    "        'wiener_index': nx.algorithms.wiener_index(graph),\n",
    "        'betweenness_centrality': np.average(list(betweenness_centrality_filtered.values())),\n",
    "        'closness_centrality': np.average(list(closeness_centrality_filtered.values())),\n",
    "        'average_degree_connectivity': np.average(list(avg_local_degree_filtered.values())),\n",
    "        'local_clustering_coefficent': nx.algorithms.approximation.average_clustering(graph)\n",
    "    }\n",
    "\n",
    "\n",
    "def normalize_values(x, y):\n",
    "    normalized = np.e ** -(x - y) ** 2\n",
    "    # print(f'normalized value of {x} and {y}: {normalized}')\n",
    "    return normalized"
   ]
  },
  {
   "cell_type": "markdown",
   "metadata": {},
   "source": [
    "# The next step is to read all single gene-networks and plot them\n",
    "> Note: Run this in the online jupyter notebook if its not working"
   ]
  },
  {
   "cell_type": "markdown",
   "metadata": {
    "pycharm": {
     "name": "#%% md\n"
    }
   },
   "source": [
    "## Alzheimer Disease"
   ]
  },
  {
   "cell_type": "code",
   "execution_count": null,
   "metadata": {
    "pycharm": {
     "name": "#%%\n"
    }
   },
   "outputs": [],
   "source": [
    "path = \"data/ad/genes/*.csv\"\n",
    "for fname in glob.glob(path):\n",
    "    df = pd.read_csv(fname)\n",
    "    Graphtype = nx.Graph()\n",
    "    file_name = Path(fname).stem\n",
    "    G = nx.from_pandas_edgelist(df, source=\"Source\", target=\"Target\",\n",
    "                                create_using=Graphtype)\n",
    "    print_graph_analytics(G, file_name)\n",
    "    plot_graph(G, file_name)"
   ]
  },
  {
   "cell_type": "markdown",
   "metadata": {
    "pycharm": {
     "name": "#%% md\n"
    }
   },
   "source": [
    "## Schizophrenia"
   ]
  },
  {
   "cell_type": "code",
   "execution_count": null,
   "metadata": {
    "pycharm": {
     "name": "#%%\n"
    }
   },
   "outputs": [],
   "source": [
    "path = \"data/schiz/genes/*.csv\"\n",
    "for fname in glob.glob(path):\n",
    "    df = pd.read_csv(fname)\n",
    "    Graphtype = nx.Graph()\n",
    "    file_name = Path(fname).stem\n",
    "    G = nx.from_pandas_edgelist(df, source=\"Source\", target=\"Target\",\n",
    "                                create_using=Graphtype)\n",
    "    print_graph_analytics(G, file_name)\n",
    "    plot_graph(G, file_name)"
   ]
  },
  {
   "cell_type": "markdown",
   "metadata": {},
   "source": [
    "# Read CSV Files (AD Network Full and Schizophrenia Network Full)"
   ]
  },
  {
   "cell_type": "code",
   "execution_count": 45,
   "metadata": {
    "pycharm": {
     "name": "#%%\n"
    }
   },
   "outputs": [],
   "source": [
    "df_ad = pd.read_csv('data/ad/ad_network_full_with_labels.csv', sep=\",\")\n",
    "df_schiz = pd.read_csv('data/schiz/schiz_network_full_with_labels.csv', sep=\",\")"
   ]
  },
  {
   "cell_type": "markdown",
   "metadata": {},
   "source": [
    "# Create networkX Graph from Pandas Edgelist (AD Network)\n",
    "> Note: This will take some time"
   ]
  },
  {
   "cell_type": "code",
   "execution_count": null,
   "metadata": {
    "pycharm": {
     "name": "#%%\n"
    }
   },
   "outputs": [],
   "source": [
    "Graphtype = nx.Graph()\n",
    "G = nx.from_pandas_edgelist(df_ad, source=\"Source\", target=\"Target\",\n",
    "                            create_using=Graphtype, edge_attr=True)\n",
    "# save_graph(G, file_name=\"ad_network_graph\")\n",
    "# print_graph_analytics(G, \"ad_network_graph\")\n",
    "# plot_graph(G, \"alzheimer disease\")\n",
    "relevant_genes = [\"APP\", \"HFE\", \"MPO\", \"NOS3\", \"PLAU\"]\n",
    "measures_AD = calculate_graph_measures(G, relevant_genes)\n",
    "print('measures for alzheimer disease calculated')"
   ]
  },
  {
   "cell_type": "markdown",
   "metadata": {},
   "source": [
    "# Create networkX Graph from Pandas Edgelist (Schizophrenia Network)\n",
    "> Note: This will take some time"
   ]
  },
  {
   "cell_type": "code",
   "execution_count": null,
   "metadata": {
    "pycharm": {
     "name": "#%%\n"
    }
   },
   "outputs": [],
   "source": [
    "Graphtype = nx.Graph()\n",
    "G = nx.from_pandas_edgelist(df_schiz, source=\"Source\", target=\"Target\",\n",
    "                            create_using=Graphtype, edge_attr=True)\n",
    "# save_graph(G, file_name=\"schiz_network_graph\")\n",
    "# print_graph_analytics(G, \"schiz_network_graph\")\n",
    "# plot_graph(G, \"schizophrenia network full\")\n",
    "# relevant_genes = [\"APOL2\", \"APOL4\", \"CHI3L1\", \"COMT\", \"DAOA\", \"DISC1\", \"DRD3\", \"HTR2A\", \"MTHFR\", \"RTN4R\", \"SYN2\"]\n",
    "# measures_schiz = calculate_graph_measures(G, relevant_genes)\n",
    "# print('measures for schizophrenia disease calculated')\n"
   ]
  },
  {
   "cell_type": "markdown",
   "metadata": {
    "pycharm": {
     "name": "#%% md\n"
    }
   },
   "source": [
    "# Comparing and normalizing measures of AD and Schizophrenia Networks"
   ]
  },
  {
   "cell_type": "code",
   "execution_count": null,
   "metadata": {
    "pycharm": {
     "name": "#%%\n"
    }
   },
   "outputs": [],
   "source": [
    "print(measures_AD)\n",
    "print(measures_schiz)\n",
    "\n",
    "for i in range(len(measures_AD)):\n",
    "    normalized = normalize_values(list(measures_AD.values())[i], list(measures_schiz.values())[i])\n",
    "    print(f'Comparing measure \"{list(measures_AD.keys())[i]}\": {list(measures_AD.values())[i]} to \\\n",
    "    {list(measures_schiz.values())[i]} -> normalized: {normalized}')"
   ]
  },
  {
   "cell_type": "markdown",
   "metadata": {
    "pycharm": {
     "name": "#%% md\n"
    }
   },
   "source": [
    "# Now we read the whole Homo-Sapiens Gene Network"
   ]
  },
  {
   "cell_type": "code",
   "execution_count": null,
   "metadata": {
    "pycharm": {
     "name": "#%%\n"
    }
   },
   "outputs": [],
   "source": [
    "df_all = pd.read_csv('data/all_protein_combined_with_labels.csv', sep=\",\")"
   ]
  },
  {
   "cell_type": "code",
   "execution_count": null,
   "metadata": {
    "pycharm": {
     "name": "#%%\n"
    }
   },
   "outputs": [],
   "source": [
    "Graphtype = nx.Graph()\n",
    "G = nx.from_pandas_edgelist(df_all, source=\"Source\", target=\"Target\",\n",
    "                            create_using=Graphtype, edge_attr=True)\n",
    "\n",
    "closeness = nx.closeness_centrality(G)\n",
    "print(f\"closeness {closeness}\")\n",
    "clustering = nx.average_clustering(G)\n",
    "print(f\"clustering {clustering}\")\n",
    "APP = G.nodes[\"APP\"]\n",
    "print(APP)\n",
    "print_graph_analytics(G, \"full_homo_sapiens_network\")\n",
    "\n",
    "# save_graph(G, file_name=\"ad_network_graph\")\n"
   ]
  },
  {
   "cell_type": "code",
   "execution_count": 65,
   "metadata": {
    "pycharm": {
     "name": "#%%\n"
    }
   },
   "outputs": [
    {
     "name": "stdout",
     "output_type": "stream",
     "text": [
      "['APOL2', 'APOL4', 'CHI3L1', 'COMT', 'DAOA', 'DISC1', 'DRD3', 'HTR2A', 'MTHFR', 'RTN4R', 'SYN2', 'APP', 'HFE', 'MPO', 'NOS3', 'PLAU']\n",
      "betweenness_centrality.APP: 0.46147779197112815\n",
      "betweenness_centrality.HFE: 0.2469183726091703\n",
      "betweenness_centrality.MPO: 0.16411629364467512\n",
      "betweenness_centrality.NOS3: 0.21183453736553687\n",
      "betweenness_centrality.PLAU: 0.12131401644635922\n",
      "betweenness_centrality.RTN4R: 0.0\n",
      "betweenness_centrality.CHI3L1: 0.0\n",
      "betweenness_centrality.MTHFR: 6.445313944043115e-05\n",
      "betweenness_centrality.COMT: 6.445313944043115e-05\n",
      "betweenness_centrality.APOL2: 0.0\n",
      "betweenness_centrality.HTR2A: 0.0\n",
      "betweenness_centrality.DRD3: 0.0\n",
      "betweenness_centrality.SYN2: 0.0\n",
      "betweenness_centrality.DAOA: 0.0\n",
      "betweenness_centrality.DISC1: 0.0\n",
      "closness_centrality.APP: 0.6605902777777778\n",
      "closness_centrality.HFE: 0.535255846667839\n",
      "closness_centrality.MPO: 0.5554744525547445\n",
      "closness_centrality.NOS3: 0.5523999637056528\n",
      "closness_centrality.PLAU: 0.5410593672236047\n",
      "closness_centrality.RTN4R: 0.39783049075344706\n",
      "closness_centrality.CHI3L1: 0.44672732609333726\n",
      "closness_centrality.MTHFR: 0.48286802030456855\n",
      "closness_centrality.COMT: 0.48286802030456855\n",
      "closness_centrality.APOL2: 0.3797642068492296\n",
      "closness_centrality.HTR2A: 0.44144732071640924\n",
      "closness_centrality.DRD3: 0.4223671430553628\n",
      "closness_centrality.SYN2: 0.4223671430553628\n",
      "closness_centrality.DAOA: 0.3797642068492296\n",
      "closness_centrality.DISC1: 0.4223671430553628\n",
      "betweenness_centrality.COMT: 0.14032976935617955\n",
      "betweenness_centrality.CHI3L1: 0.09691237263859603\n",
      "betweenness_centrality.RTN4R: 0.10144273738933623\n",
      "betweenness_centrality.MTHFR: 0.18447391597245957\n",
      "betweenness_centrality.DRD3: 0.04071806927877363\n",
      "betweenness_centrality.SYN2: 0.13580839527738567\n",
      "betweenness_centrality.HTR2A: 0.0570480183877248\n",
      "betweenness_centrality.DISC1: 0.12108842391551859\n",
      "betweenness_centrality.APOL2: 0.04347907993991553\n",
      "betweenness_centrality.DAOA: 0.01295727143562712\n",
      "betweenness_centrality.APP: 0.0002842541482320777\n",
      "betweenness_centrality.APOL4: 0.0174592782364939\n",
      "betweenness_centrality.MPO: 2.2121073556434236e-05\n",
      "betweenness_centrality.PLAU: 6.254106271517537e-06\n",
      "betweenness_centrality.NOS3: 1.3362854929013959e-05\n",
      "betweenness_centrality.HFE: 0.0\n",
      "closness_centrality.COMT: 0.5173950641921107\n",
      "closness_centrality.CHI3L1: 0.475660469667319\n",
      "closness_centrality.RTN4R: 0.48166955660143673\n",
      "closness_centrality.MTHFR: 0.4919048823678219\n",
      "closness_centrality.DRD3: 0.4760680621863141\n",
      "closness_centrality.SYN2: 0.5307403616513136\n",
      "closness_centrality.HTR2A: 0.4851546906187625\n",
      "closness_centrality.DISC1: 0.5103004855005905\n",
      "closness_centrality.APOL2: 0.40956242430625034\n",
      "closness_centrality.DAOA: 0.4692609351432881\n",
      "closness_centrality.APP: 0.4625906982276674\n",
      "closness_centrality.APOL4: 0.3935836453800223\n",
      "closness_centrality.MPO: 0.3704515145742046\n",
      "closness_centrality.PLAU: 0.3594602088917645\n",
      "closness_centrality.NOS3: 0.40185998450012916\n",
      "closness_centrality.HFE: 0.38573695695298554\n"
     ]
    }
   ],
   "source": [
    "import json\n",
    "\n",
    "    \n",
    "relevant_schiz_genes = [\"APOL2\", \"APOL4\", \"CHI3L1\", \"COMT\", \"DAOA\", \"DISC1\", \"DRD3\", \"HTR2A\", \"MTHFR\", \"RTN4R\", \"SYN2\"]\n",
    "relevant_ad_genes = [\"APP\", \"HFE\", \"MPO\", \"NOS3\", \"PLAU\"]\n",
    "\n",
    "relevant_genes = relevant_schiz_genes + relevant_ad_genes\n",
    "relevant_gene_measures = {}\n",
    "print(relevant_genes)\n",
    "            \n",
    "def dict_path(path,my_dict):\n",
    "    path = path.strip(\".\")\n",
    "    for k,v in my_dict.items():\n",
    "        if(k in relevant_genes): \n",
    "            relevant_gene_measures[f\"{path}.{k}\"] = v\n",
    "            print(f\"{path}.{k}: {v}\")\n",
    "        if isinstance(v,dict):\n",
    "            dict_path(f\"{path}.{k}\", v)\n",
    "            \n",
    "\n",
    "            \n",
    "with open('measures_not_filtered/measures_alzheimer.json') as json_file:\n",
    "    ad_measures = json.load(json_file)\n",
    "\n",
    "with open('measures_not_filtered/measures_schizophrenia.json') as json_file:\n",
    "    schiz_measures = json.load(json_file)\n",
    "\n",
    "dict_path(\"\", ad_measures)\n",
    "dict_path(\"\", schiz_measures)"
   ]
  },
  {
   "cell_type": "code",
   "execution_count": null,
   "metadata": {
    "pycharm": {
     "name": "#%%\n"
    }
   },
   "outputs": [],
   "source": [
    "for key,value in relevant_gene_measures.items():\n",
    "    print(f\"{key}: {value}\")"
   ]
  },
  {
   "cell_type": "code",
   "execution_count": 80,
   "metadata": {},
   "outputs": [],
   "source": [
    "df_ad = pd.read_csv('data/ad/ad_network_full_with_labels.csv', sep=\",\")\n",
    "df_schiz = pd.read_csv('data/schiz/schiz_network_full_with_labels.csv', sep=\",\")"
   ]
  },
  {
   "cell_type": "code",
   "execution_count": 82,
   "metadata": {
    "pycharm": {
     "name": "#%%\n"
    }
   },
   "outputs": [],
   "source": [
    "Graphtype = nx.Graph()\n",
    "ad_graph = nx.from_pandas_edgelist(df_ad, source=\"Source\", target=\"Target\",\n",
    "                            create_using=Graphtype)"
   ]
  },
  {
   "cell_type": "code",
   "execution_count": 83,
   "metadata": {},
   "outputs": [],
   "source": [
    "Graphtype = nx.Graph()\n",
    "schiz_graph = nx.from_pandas_edgelist(df_schiz, source=\"Source\", target=\"Target\",\n",
    "                            create_using=Graphtype)"
   ]
  },
  {
   "cell_type": "code",
   "execution_count": 87,
   "metadata": {},
   "outputs": [
    {
     "name": "stdout",
     "output_type": "stream",
     "text": [
      "0.38371237056286983\n",
      "0.40280584579240086\n",
      "0.395\n",
      "0.397\n",
      "0.9122550521419824\n",
      "0.9795067072803214\n"
     ]
    }
   ],
   "source": [
    "print(np.average(list(nx.clustering(schiz_graph).values())))\n",
    "print(np.average(list(nx.clustering(ad_graph).values())))\n",
    "\n",
    "print(nx.approximation.average_clustering(schiz_graph))\n",
    "print(nx.approximation.average_clustering(ad_graph))\n",
    "\n",
    "print(nx.average_clustering(schiz_graph, count_zeros=False))\n",
    "print(nx.average_clustering(ad_graph, count_zeros=False))\n"
   ]
  },
  {
   "cell_type": "code",
   "execution_count": 54,
   "metadata": {},
   "outputs": [],
   "source": [
    "ad_betweenness = nx.betweenness_centrality(ad_graph)\n",
    "schiz_betweenness = nx.betweenness_centrality(schiz_graph)"
   ]
  },
  {
   "cell_type": "code",
   "execution_count": 66,
   "metadata": {
    "scrolled": true
   },
   "outputs": [],
   "source": [
    "# degree\n",
    "schiz_degree = {}\n",
    "ad_degree = {}\n",
    "# betweenness\n",
    "schiz_betweenness_d = {}\n",
    "ad_betweenness_d = {}\n",
    "# closeness\n",
    "schiz_closeness = {}\n",
    "ad_closeness = {}\n",
    "# local_cluster\n",
    "schiz_cluster = {}\n",
    "ad_cluster = {}\n",
    "\n",
    "for n in relevant_ad_genes:\n",
    "    ad_degree[n] = ad_graph.degree(n)\n",
    "    ad_closeness[n] = nx.closeness_centrality(ad_graph, u=n)\n",
    "    ad_cluster[n] = nx.clustering(ad_graph, nodes=n)\n",
    "    ad_betweenness_d[n] = ad_betweenness[n] \n",
    "    \n",
    "for n in relevant_schiz_genes:\n",
    "    schiz_degree[n] = schiz_graph.degree(n)\n",
    "    schiz_closeness[n] = nx.closeness_centrality(schiz_graph, u=n)\n",
    "    schiz_cluster[n] = nx.clustering(schiz_graph, nodes=n)\n",
    "    schiz_betweenness_d[n] = schiz_betweenness[n]\n",
    "    "
   ]
  },
  {
   "cell_type": "code",
   "execution_count": 67,
   "metadata": {},
   "outputs": [
    {
     "data": {
      "text/plain": [
       "[<matplotlib.lines.Line2D at 0x1d09cfec5b0>]"
      ]
     },
     "execution_count": 67,
     "metadata": {},
     "output_type": "execute_result"
    },
    {
     "data": {
      "image/png": "[encoded data removed]",
      "text/plain": [
       "<Figure size 432x288 with 2 Axes>"
      ]
     },
     "metadata": {
      "needs_background": "light"
     },
     "output_type": "display_data"
    }
   ],
   "source": [
    "import matplotlib.pyplot as plt\n",
    "lists = schiz_betweenness_d.items()\n",
    "x, y = zip(*lists)\n",
    "plt.subplot(1, 2, 1)\n",
    "plt.xticks(rotation = 45)\n",
    "plt.title(\"betweenness (schiz)\")\n",
    "plt.plot(x,y)\n",
    "plt.subplots_adjust(left=.89)\n",
    "plt.subplot(1, 2, 2)\n",
    "lists = ad_betweenness_d.items()\n",
    "x, y = zip(*lists)\n",
    "plt.xticks(rotation = 45)\n",
    "plt.title(\"betweenness (ad)\")\n",
    "plt.tight_layout()\n",
    "plt.plot(x,y)"
   ]
  },
  {
   "cell_type": "code",
   "execution_count": 68,
   "metadata": {},
   "outputs": [
    {
     "data": {
      "text/plain": [
       "[<matplotlib.lines.Line2D at 0x1d09cf98280>]"
      ]
     },
     "execution_count": 68,
     "metadata": {},
     "output_type": "execute_result"
    },
    {
     "data": {
      "image/png": "[encoded data removed]",
      "text/plain": [
       "<Figure size 432x288 with 2 Axes>"
      ]
     },
     "metadata": {
      "needs_background": "light"
     },
     "output_type": "display_data"
    }
   ],
   "source": [
    "lists = schiz_closeness.items()\n",
    "x, y = zip(*lists)\n",
    "plt.subplot(1, 2, 1)\n",
    "plt.xticks(rotation = 45)\n",
    "plt.title(\"closeness (schiz)\")\n",
    "plt.plot(x,y)\n",
    "plt.subplots_adjust(left=.89)\n",
    "plt.subplot(1, 2, 2)\n",
    "lists = ad_closeness.items()\n",
    "x, y = zip(*lists)\n",
    "plt.xticks(rotation = 45)\n",
    "plt.title(\"closeness (ad)\")\n",
    "plt.tight_layout()\n",
    "plt.plot(x,y)"
   ]
  },
  {
   "cell_type": "code",
   "execution_count": 69,
   "metadata": {},
   "outputs": [
    {
     "data": {
      "text/plain": [
       "[<matplotlib.lines.Line2D at 0x1d09dd54be0>]"
      ]
     },
     "execution_count": 69,
     "metadata": {},
     "output_type": "execute_result"
    },
    {
     "data": {
      "image/png": "[encoded data removed]",
      "text/plain": [
       "<Figure size 432x288 with 2 Axes>"
      ]
     },
     "metadata": {
      "needs_background": "light"
     },
     "output_type": "display_data"
    }
   ],
   "source": [
    "lists = schiz_cluster.items()\n",
    "x, y = zip(*lists)\n",
    "plt.subplot(1, 2, 1)\n",
    "plt.xticks(rotation = 45)\n",
    "plt.title(\"local_cluster (schiz)\")\n",
    "plt.plot(x,y)\n",
    "plt.subplots_adjust(left=.89)\n",
    "plt.subplot(1, 2, 2)\n",
    "lists = ad_cluster.items()\n",
    "x, y = zip(*lists)\n",
    "plt.xticks(rotation = 45)\n",
    "plt.title(\"local_cluster (ad)\")\n",
    "plt.tight_layout()\n",
    "plt.plot(x,y)"
   ]
  },
  {
   "cell_type": "code",
   "execution_count": 70,
   "metadata": {},
   "outputs": [
    {
     "data": {
      "text/plain": [
       "[<matplotlib.lines.Line2D at 0x1d09ce69f90>]"
      ]
     },
     "execution_count": 70,
     "metadata": {},
     "output_type": "execute_result"
    },
    {
     "data": {
      "image/png": "[encoded data removed]",
      "text/plain": [
       "<Figure size 432x288 with 2 Axes>"
      ]
     },
     "metadata": {
      "needs_background": "light"
     },
     "output_type": "display_data"
    }
   ],
   "source": [
    "lists = schiz_degree.items()\n",
    "x, y = zip(*lists)\n",
    "plt.subplot(1, 2, 1)\n",
    "plt.xticks(rotation = 45)\n",
    "plt.title(\"degree (schiz)\")\n",
    "plt.plot(x,y)\n",
    "plt.subplots_adjust(left=.89)\n",
    "plt.subplot(1, 2, 2)\n",
    "lists = ad_degree.items()\n",
    "x, y = zip(*lists)\n",
    "plt.xticks(rotation = 45)\n",
    "plt.title(\"degree (ad)\")\n",
    "plt.tight_layout()\n",
    "plt.plot(x,y)"
   ]
  },
  {
   "cell_type": "code",
   "execution_count": null,
   "metadata": {},
   "outputs": [],
   "source": []
  },
  {
   "cell_type": "code",
   "execution_count": null,
   "metadata": {},
   "outputs": [],
   "source": []
  }
 ],
 "metadata": {
  "interpreter": {
   "hash": "a65720f9fe3ee910c48bc6888ba9a90229fff48d18c10ce2aa390e3be54f39c2"
  },
  "kernelspec": {
   "display_name": "Python 3 (ipykernel)",
   "language": "python",
   "name": "python3"
  },
  "language_info": {
   "codemirror_mode": {
    "name": "ipython",
    "version": 3
   },
   "file_extension": ".py",
   "mimetype": "text/x-python",
   "name": "python",
   "nbconvert_exporter": "python",
   "pygments_lexer": "ipython3",
   "version": "3.10.0"
  }
 },
 "nbformat": 4,
 "nbformat_minor": 2
}