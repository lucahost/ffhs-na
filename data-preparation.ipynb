{
 "cells": [
  {
   "cell_type": "code",
   "execution_count": null,
   "metadata": {
    "collapsed": true
   },
   "outputs": [],
   "source": [
    "import glob\n",
    "from pathlib import Path\n",
    "import pandas as pd"
   ]
  },
  {
   "cell_type": "code",
   "execution_count": null,
   "outputs": [],
   "source": [
    "# Prepare Downloaded TSV Files (Convert to CSV)\n",
    "path = \"data/**/**/*.tsv\"\n",
    "for fname in glob.glob(path):\n",
    "    csv_table = pd.read_table(fname, sep='\\t')\n",
    "    file_name = Path(fname).stem\n",
    "    file_path = Path(fname).resolve().parent\n",
    "    csv_table.to_csv(f'{file_path}/{file_name}.csv', index=False)"
   ],
   "metadata": {
    "collapsed": false,
    "pycharm": {
     "name": "#%%\n"
    }
   }
  },
  {
   "cell_type": "code",
   "execution_count": null,
   "outputs": [],
   "source": [
    "# Prepare Data Mapping (Map ID to Label)\n",
    "\n",
    "ad_genes = \"APP,HFE,MPO,NOS3,PLAU,ABCA7,PSEN2,PSEN1,APOE\"\n",
    "schizo_genes = \"APOL2,APOL4,CHI3L1,COMT,DAOA,DISC2,DRD3,HTR2A,MTHFR,RTN4R,SYN2,SHANK3,DISC1,RBM12,NRXN1,SLC1A1,PRODH,NRG1\"\n",
    "\n",
    "ad_dict = {\n",
    "    # Alzheimer Disease\n",
    "    \"APP\": \"9606.ENSP00000284981\",\n",
    "    \"HFE\": \"9606.ENSP00000417404\",\n",
    "    \"MPO\": \"9606.ENSP00000225275\",\n",
    "    \"NOS3\": \"9606.ENSP00000297494\",\n",
    "    \"PLAU\": \"9606.ENSP00000361850\",\n",
    "}\n",
    "\n",
    "ad_related_dict = {\n",
    "    # AD Related\n",
    "    \"ABCA7\": \"9606.ENSP00000263094\",\n",
    "    \"PSEN1\": \"9606.ENSP00000326366\",\n",
    "    \"PSEN2\": \"9606.ENSP00000355747\",\n",
    "    \"APOE\": \"9606.ENSP00000252486\",\n",
    "}\n",
    "\n",
    "ad_full = ad_dict | ad_related_dict\n",
    "\n",
    "schiz_dict = {\n",
    "    # Schizophrenia\n",
    "    \"APOL2\": \"9606.ENSP00000249066\",\n",
    "    \"APOL4\": \"9606.ENSP00000338260\",\n",
    "    \"CHI3L1\": \"9606.ENSP00000255409\",\n",
    "    \"COMT\": \"9606.ENSP00000354511\",\n",
    "    \"DAOA\": \"9606.ENSP00000483757\",\n",
    "    \"DISC1\": \"9606.ENSP00000355593\",\n",
    "    \"DRD3\": \"9606.ENSP00000373169\",\n",
    "    \"HTR2A\": \"9606.ENSP00000437737\",\n",
    "    \"MTHFR\": \"9606.ENSP00000365777\",\n",
    "    \"RTN4R\": \"9606.ENSP00000043402\",\n",
    "    \"SYN2\": \"9606.ENSP00000480050\",\n",
    "}\n",
    "\n",
    "schiz_related_dict = {\n",
    "    # Schizophrenia Related\n",
    "    \"RBM12\": \"9606.ENSP00000363228\",\n",
    "    \"NRXN1\": \"9606.ENSP00000385142\",\n",
    "    \"SLC1A1\": \"9606.ENSP00000262352\",\n",
    "    \"PRODH\": \"9606.ENSP00000481127\",\n",
    "    \"NRG1\": \"9606.ENSP00000384620\",\n",
    "}\n",
    "\n",
    "schiz_full = schiz_dict | schiz_related_dict"
   ],
   "metadata": {
    "collapsed": false,
    "pycharm": {
     "name": "#%%\n"
    }
   }
  },
  {
   "cell_type": "code",
   "execution_count": null,
   "outputs": [],
   "source": [
    "# Prepare Data (Create Label Columns)\n",
    "def get_key(val):\n",
    "    val = all_nodes.loc[val][\"preferred_name\"]\n",
    "    if val:\n",
    "        return val\n",
    "\n",
    "    return \"\"\n",
    "\n",
    "\n",
    "all_nodes = pd.read_csv('data/all_protein_info.csv', sep=\",\", index_col=\"string_protein_id\")\n",
    "\n",
    "df_ad = pd.read_csv('data/ad/ad_network_full.csv', sep=\",\")\n",
    "df_schiz = pd.read_csv('data/schiz/schiz_network_full.csv', sep=\",\")\n",
    "\n",
    "df_ad[\"Source\"] = df_ad.apply(lambda row: get_key(row[\"SourceId\"]), axis=1)\n",
    "df_ad[\"Target\"] = df_ad.apply(lambda row: get_key(row[\"TargetId\"]), axis=1)\n",
    "\n",
    "df_ad.to_csv('data/ad/ad_network_full_with_labels.csv', index=False)\n",
    "\n",
    "df_schiz[\"Source\"] = df_schiz.apply(lambda row: get_key(row[\"SourceId\"]), axis=1)\n",
    "df_schiz[\"Target\"] = df_schiz.apply(lambda row: get_key(row[\"TargetId\"]), axis=1)\n",
    "\n",
    "df_schiz.to_csv('data/schiz/schiz_network_full_with_labels.csv', index=False)"
   ],
   "metadata": {
    "collapsed": false,
    "pycharm": {
     "name": "#%%\n"
    }
   }
  }
 ],
 "metadata": {
  "kernelspec": {
   "display_name": "Python 3",
   "language": "python",
   "name": "python3"
  },
  "language_info": {
   "codemirror_mode": {
    "name": "ipython",
    "version": 2
   },
   "file_extension": ".py",
   "mimetype": "text/x-python",
   "name": "python",
   "nbconvert_exporter": "python",
   "pygments_lexer": "ipython2",
   "version": "2.7.6"
  }
 },
 "nbformat": 4,
 "nbformat_minor": 0
}